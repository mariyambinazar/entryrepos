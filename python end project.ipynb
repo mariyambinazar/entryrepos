{
 "cells": [
  {
   "cell_type": "code",
   "execution_count": null,
   "id": "ec08c89c-9bf8-4b21-85f7-8ec0b0717d88",
   "metadata": {},
   "outputs": [],
   "source": [
    "import numpy as np\n",
    "import pandas as pd\n",
    "import matplotlib.pyplot as plt\n",
    "import seaborn as sns\n"
   ]
  }
 ],
 "metadata": {
  "kernelspec": {
   "display_name": "",
   "name": ""
  },
  "language_info": {
   "name": ""
  }
 },
 "nbformat": 4,
 "nbformat_minor": 5
}
